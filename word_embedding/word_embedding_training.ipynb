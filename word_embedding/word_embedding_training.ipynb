{
 "cells": [
  {
   "cell_type": "markdown",
   "metadata": {},
   "source": [
    "# Generate Embeddings"
   ]
  },
  {
   "cell_type": "code",
   "execution_count": 1,
   "metadata": {},
   "outputs": [
    {
     "name": "stdout",
     "output_type": "stream",
     "text": [
      "Load corpus.json\n"
     ]
    }
   ],
   "source": [
    "# Load corpus json\n",
    "import json\n",
    "\n",
    "print('Load corpus.json')\n",
    "with open('actual_data/corpus.json/corpus.json', 'r') as f:\n",
    "    documents = json.load(f)"
   ]
  },
  {
   "cell_type": "code",
   "execution_count": 2,
   "metadata": {},
   "outputs": [
    {
     "name": "stdout",
     "output_type": "stream",
     "text": [
      "Document 1: doc-en-602905 - The Romance of the Forest is a Gothic novel by Ann Radcliffe that was first published in 1791. It co...\n",
      "Document 2: doc-en-776092 - David Lee Roth (born October 10, 1954) is an American retired rock musician, singer, songwriter and ...\n",
      "Document 3: doc-en-742232 - Daniel Dewan Sewell (born March 16, 1981), known professionally as Danny Brown, is an American rappe...\n",
      "Document 4: doc-en-140998 - Electoral district no. 7 () is one of the 12 multi-member electoral districts of the Riigikogu, the ...\n",
      "Document 5: doc-en-307726 - EcosimPro is a simulation tool developed by Empresarios Agrupados A.I.E for modelling simple and com...\n",
      "Selected docids written to selected_docids.json\n"
     ]
    },
    {
     "data": {
      "text/plain": [
       "32"
      ]
     },
     "execution_count": 2,
     "metadata": {},
     "output_type": "execute_result"
    }
   ],
   "source": [
    "# OPTIONAL: only select a random subset of documents from corpus\n",
    "import random\n",
    "import gc\n",
    "\n",
    "random.seed(42)\n",
    "num_documents_to_select = 50000\n",
    "\n",
    "selected_documents = random.sample(documents, num_documents_to_select)\n",
    "\n",
    "# Print some examples to check\n",
    "for i, doc in enumerate(selected_documents[:5]):\n",
    "    print(f\"Document {i+1}: {doc['docid']} - {doc['text'][:100]}...\")\n",
    "\n",
    "# Extract docids from the selected documents\n",
    "selected_docids = [doc['docid'] for doc in selected_documents]\n",
    "\n",
    "# Write the selected docids to a file\n",
    "docids_file_path = 'selected_docids.json'\n",
    "with open(docids_file_path, 'w') as f:\n",
    "    json.dump(selected_docids, f)\n",
    "\n",
    "print(f\"Selected docids written to {docids_file_path}\")\n",
    "\n",
    "# Replace documents variable and clean memory\n",
    "del documents\n",
    "documents = selected_documents\n",
    "del selected_documents\n",
    "del selected_docids\n",
    "gc.collect()"
   ]
  },
  {
   "cell_type": "code",
   "execution_count": 3,
   "metadata": {},
   "outputs": [
    {
     "name": "stderr",
     "output_type": "stream",
     "text": [
      "[nltk_data] Downloading package stopwords to\n",
      "[nltk_data]     /Users/vincentfiszbin/nltk_data...\n",
      "[nltk_data]   Package stopwords is already up-to-date!\n",
      "[nltk_data] Downloading package wordnet to\n",
      "[nltk_data]     /Users/vincentfiszbin/nltk_data...\n",
      "[nltk_data]   Package wordnet is already up-to-date!\n"
     ]
    },
    {
     "name": "stdout",
     "output_type": "stream",
     "text": [
      "어떤 방식으로 췌몽상과 비상천에서 빗자루를 타고 돌진하는 형태로 사용되는 것인가요\n",
      "Extract text from docs\n",
      "Save docs in temp file\n",
      "Delete texts variable\n"
     ]
    },
    {
     "data": {
      "text/plain": [
       "0"
      ]
     },
     "execution_count": 3,
     "metadata": {},
     "output_type": "execute_result"
    }
   ],
   "source": [
    "# Extract text from docs\n",
    "from preprocessing import clean_text\n",
    "print('Extract text from docs')\n",
    "texts = [doc['text'] for doc in documents] \n",
    "\n",
    "del documents\n",
    "gc.collect()\n",
    "\n",
    "\n",
    "# Save docs in temp file\n",
    "import tempfile\n",
    "print('Save docs in temp file')\n",
    "with tempfile.NamedTemporaryFile(delete=False) as temp_file:\n",
    "    temp_file_name = temp_file.name\n",
    "    for text in texts:\n",
    "        temp_file.write((text + '\\n').encode('utf-8'))\n",
    "\n",
    "\n",
    "print('Delete texts variable')\n",
    "del texts\n",
    "gc.collect()\n"
   ]
  },
  {
   "cell_type": "code",
   "execution_count": 4,
   "metadata": {},
   "outputs": [
    {
     "name": "stdout",
     "output_type": "stream",
     "text": [
      "Start fasttext model training\n"
     ]
    },
    {
     "name": "stderr",
     "output_type": "stream",
     "text": [
      "Read 100M words\n",
      "Number of words:  657722\n",
      "Number of labels: 0\n",
      "Progress: 100.0% words/sec/thread:  112554 lr:  0.000000 avg.loss:  0.777781 ETA:   0h 0m 0s 41.1% words/sec/thread:  113381 lr:  0.029464 avg.loss:  1.012606 ETA:   0h 5m26s 112807 lr:  0.019040 avg.loss:  0.930815 ETA:   0h 3m32s 69.9% words/sec/thread:  112706 lr:  0.015071 avg.loss:  0.905647 ETA:   0h 2m48s\n"
     ]
    },
    {
     "name": "stdout",
     "output_type": "stream",
     "text": [
      "Save the trained model to models/fasttext_unsupervised_cbow_dim100_mini.bin\n",
      "Delete model variable\n"
     ]
    },
    {
     "data": {
      "text/plain": [
       "0"
      ]
     },
     "execution_count": 4,
     "metadata": {},
     "output_type": "execute_result"
    }
   ],
   "source": [
    "import fasttext\n",
    "import os\n",
    "import gc\n",
    "from multiprocessing import cpu_count\n",
    "\n",
    "print('Start fasttext model training')\n",
    "model = fasttext.train_unsupervised(temp_file_name, model = 'cbow', thread=cpu_count())\n",
    "\n",
    "\n",
    "# Close and remove the temporary file\n",
    "temp_file.close()\n",
    "os.remove(temp_file_name)\n",
    "\n",
    "# Save the trained model\n",
    "model_name = \"fasttext_unsupervised_cbow_dim100_mini\"\n",
    "print(f'Save the trained model to models/{model_name}.bin')\n",
    "model.save_model(f\"models/{model_name}.bin\")\n",
    "\n",
    "\n",
    "print('Delete model variable')\n",
    "del model\n",
    "gc.collect()"
   ]
  },
  {
   "cell_type": "markdown",
   "metadata": {},
   "source": [
    "# MLflow logging"
   ]
  },
  {
   "cell_type": "code",
   "execution_count": null,
   "metadata": {},
   "outputs": [],
   "source": [
    "import mlflow\n",
    "\n",
    "try:\n",
    "    model_name\n",
    "except NameError:\n",
    "    model_name = \"fasttext_unsupervised_cbow_dim100\"\n",
    "\n",
    "# Set our tracking server uri for logging\n",
    "mlflow.set_tracking_uri(uri=\"http://127.0.0.1:5000\")\n",
    "\n",
    "# Create a new MLflow Experiment\n",
    "mlflow.set_experiment(\"word_embedding\")\n",
    "\n",
    "# Start an MLflow run\n",
    "with mlflow.start_run(run_name=model_name):\n",
    "    mlflow.log_param(\"framework\", \"fasttext\")\n",
    "    mlflow.log_param(\"method\", \"unsupervised\")\n",
    "    mlflow.log_param(\"model\", \"cbow\")\n",
    "    mlflow.log_param(\"input\", \"50000docs\")\n",
    "\n",
    "    mlflow.log_metric(\"dimension\", 100)\n",
    "    mlflow.log_metric(\"recall_at10_dev\", 0.0967)"
   ]
  }
 ],
 "metadata": {
  "kernelspec": {
   "display_name": "pyenv",
   "language": "python",
   "name": "python3"
  },
  "language_info": {
   "codemirror_mode": {
    "name": "ipython",
    "version": 3
   },
   "file_extension": ".py",
   "mimetype": "text/x-python",
   "name": "python",
   "nbconvert_exporter": "python",
   "pygments_lexer": "ipython3",
   "version": "3.12.5"
  },
  "toc": {
   "base_numbering": 1,
   "nav_menu": {},
   "number_sections": true,
   "sideBar": true,
   "skip_h1_title": true,
   "title_cell": "Table of Contents",
   "title_sidebar": "Contents",
   "toc_cell": false,
   "toc_position": {},
   "toc_section_display": true,
   "toc_window_display": true
  }
 },
 "nbformat": 4,
 "nbformat_minor": 4
}
