{
 "cells": [
  {
   "cell_type": "code",
   "execution_count": 1,
   "metadata": {},
   "outputs": [],
   "source": [
    "import json\n",
    "file_path='actual_data/corpus.json/corpus.json'\n",
    "\n",
    "# Load the documents from corpus\n",
    "with open(file_path, 'r') as f:\n",
    "    documents = json.load(f)"
   ]
  },
  {
   "cell_type": "code",
   "execution_count": 2,
   "metadata": {},
   "outputs": [],
   "source": [
    "def read_document_by_docid(docid):\n",
    "    for doc in documents:\n",
    "        if doc['docid'] == docid:\n",
    "            return doc\n",
    "    return None"
   ]
  },
  {
   "cell_type": "code",
   "execution_count": 3,
   "metadata": {},
   "outputs": [
    {
     "name": "stdout",
     "output_type": "stream",
     "text": [
      "Document with docid doc-en-558908:\n",
      "{'docid': 'doc-en-558908', 'text': 'A linear park is a type of park that is significantly longer than it is wide. These linear parks are strips of public land running along canals, rivers, streams, defensive walls, electrical lines, or highways and shorelines. Examples of linear parks include everything from wildlife corridors to riverways to trails, capturing the broadest sense of the word. Other examples include rail trails (\"rails to trails\"), which are disused railroad beds converted for recreational use by removing existing structures. Commonly, these linear parks result from the public and private sectors acting on the dense urban need for open green space. Linear parks stretch through urban areas, coming through as a solution for the lack of space and need for urban greenery. They also effectively connect different neighborhoods in dense urban areas as a result, and create places that are ideal for activities such as jogging or walking.  Linear parks may also be categorized as greenways. In Australia, a linear park along the coast is known as a foreshoreway. When being designed, linear parks appear unique as they are planned around the public\\'s opinion of how the space will affect them.\\n\\nNorth America\\nPossibly the earliest example is the Emerald Necklace, which consists of a , or 445 hectare chain of parks linked by parkways (a broad, landscaped highway) and waterways in Boston and Brookline, Massachusetts, U.S. The name comes from the way the planned chain appears to hang from the \"neck\" of the Boston peninsula. This system of linear parks was designed by Frederick Law Olmsted to connect the Boston Commons and Public Garden (1837) to Franklin Park (Boston), also known as the \"crown jewel\" of Olmstead\\'s work in Boston. The project began around 1878 with efforts to clean up and control the marshy area which later became the Back Bay and the Fens. In 1880, Olmsted proposed that the Muddy River be included in the park plan as the current dredged into a winding stream and was directed into the Charles River. Olmsted\\'s vision of a linear park of walking paths along a gentle stream connecting numerous small ponds was complete by the turn of the century, but never completed the section to Boston Harbor. The subsequent development of the automobile industry and roads severely disrupted the original concept.\\n\\nIn recent years, a prevalent example of a linear park that has seen more visitors is the High Line in New York City. The High Line is a 1.45-mile long rail trail and greenway, having been built on a historic rail line as well as constructed to have greenery all throughout.It serves its purpose as a linear park by connecting neighborhoods throughout while appearing aesthetically pleasing. Historically targeted for demolition, the High Line has been transformed into an extraordinary elevated park that allows for activities such as sight-seeing and exercise, creating a new dynamic living experience within the city. Overcoming demolition as an unused industrialized area, the ingenuity of the High Line has fast become motivation for other cities to follow suit and build smarter. Notably, the High Line\\'s annual budget is funded almost entirely by park-goers, though it is operated under the New York City Department of Parks and Recreation license agreement.\\n\\nIn some cities, many linear parks run through residential areas. In this case, the front of the house will face the streets, while the back faces a small linear park containing a pathway, trees and grass connecting different areas together. Examples are numerous in some Canadian cities such as Saskatoon. Houses connected with linear parks are more common in suburban and rural areas where space is much less in-demand.\\n\\nEquity and Inclusion \\nA linear park system advocating for equity and inclusion is the BeltLine, currently being planned and built in sections in Atlanta, Georgia. Similar to the High Line, part of the foundation for this project consisted of reclaiming 22-miles(35.4km) of historic and unused rail trails. Totaling 33-miles, the BeltLine will completely encircle Atlanta\\'s central business districts, including a trail and light rail line on the existing tracks instead of another road. The mission and vision of Atlanta\\'s BeltLine is to geographically balance out resident demographics within the city, allowing for all associated to the BeltLine to benefit and prosper economically.\\n\\nEurope \\n\\nIn England, linear parks have also been created around waterways, especially in cities where the terrain is such that rivers and brooks have significant flood plains. Such land cannot sensibly be used for urban development and so it is set aside as a civic amenity. The settlement Milton Keynes makes extensive use of linear parks, with nine different examples that include the flood plains of the Great Ouse and of its tributaries (the Ouzel and some brooks).In the UK, Milton Keynes ranked highest in a national comparison of open urban areas available to residents.\\n\\nIn Greater London, Essex and Hertfordshire, the Lee Valley Park is a  linear park, stretching for  long, much of it green spaces running along the flood plains of the River Lea from the River Thames to Ware, through areas such as Stratford, Clapton, Tottenham, Enfield, Walthamstow, Cheshunt, Broxbourne and Hoddesdon in an area renowned as the Lea Valley. Greater London\\'s largest park, Lee Valley Park is more than four times the size of Richmond Park, extending beyond Greater London\\'s borders into the neighboring counties of Hertfordshire and Essex.\\n\\nA more recent example of a linear park is the Berlin Mauerpark, which was built on a part of the former Berlin Wall area and its adjacent former death strip.\\n\\nPlanty Park, Kraków, Poland). It encircles the Stare Miasto (Old Town), where the Medieval city walls used to stand until the early 19th century. The park has an area of  and a length of . It consists of a chain of thirty smaller gardens designed in varied styles and adorned with numerous monuments and fountains. The park forms a scenic walkway popular with Cracovians. In summer, sprinkled with ponds and refreshment stalls, it is a cool and shady retreat from the nearby bustling streets.\\n\\nAsia \\n\\nIn Hong Kong, a prominent example of a linear park is the Avenue of Stars. Located at the waterfront surrounding East Tsim Sha Tsui, the Avenue of Stars is a 440-meter(0.27 mi.) promenade offering scenic views to the public. As a public amenity, the park provides much needed urban space to the dense city of Hong Kong. The walking road itself is dedicated to famous Hong Kong celebrities, and as such is an attractive tourist area lined with souvenir stalls at some sections.\\n\\nIn addition to the dynamic waterfront location, the Avenue of Stars provides visitors a \"front-row seat\"(stand) to the Symphony of Lights, the world\\'s largest light and sound show. It\\'s also around this area that the famed Star Ferry can be observed and even ridden.\\n\\nIn Singapore, wild growth and shrubbery that\\'s taken over a former KTM rail line has been encouraged and maintained through public opinion. Convincing the Singaporean government of the land\\'s value, the citizens of Singapore were able to turn a neglected KTM railway in to a linear park that now runs 10km(6.21mi) long and offers unique perspectives into Singaporean wildlife. Rail Corridor differs from the typical linear park in a way that promotes and integrates the biodiversity and ecosystem throughout --covering 93 different species-- while serving as an excellent outdoor trail to get active in.\\n\\nList of linear parks\\n\\nEurope\\n\\nBelgium \\n\\n Parc de la Senne - Zennepark, Brussels\\n\\nFrance\\n Promenade plantée, Paris\\n\\nGermany\\n Mauerpark in Berlin\\n Mittellandkanal, Hannover\\n Kattenbrook-Park, Hannover\\n\\nIreland\\n Dodder Park, Dublin\\n Lansdowne Valley Park, Dublin\\n\\nPortugal\\n Tagus Linear Park, Póvoa de Santa Iria (River Tagus)\\n\\nSpain\\n Sagera Linear Park, Barcelona\\n Parc de la Rambla de Sants, Barcelona\\n Turia Gardens (Jardín del Turia), Valencia\\n\\nUnited Kingdom\\n\\n Brampton Valley Way in Northamptonshire and Leicestershire, England\\n Eastside City Park, Birmingham, England\\n Hogsmill River Park, London, England\\n Mile End Park, East London, England\\n\\nNorth America\\n\\nCanada\\n Beltline Linear Park and West Toronto Railpath, Toronto, Ontario\\n Grand Concourse (St. John\\'s), Newfoundland: a walkway system with linear parks\\n Meewasin Trail, Saskatoon, Saskatchewan\\n Parc linéaire de la rivière Saint-Charles, Québec City, Québec\\n Parc Linéaire Le P\\'tit Train du Nord, Saint-Jérôme - Mont-Laurier, Quebec.\\n Strathcona Linear Park, Vancouver, British Columbia\\n\\nUnited States\\n Alewife Linear Park, Massachusetts\\n Bloomingdale Trail (The 606), Chicago, Illinois\\n Blue Ridge Parkway, North Carolina and Virginia\\n Brickell Key Baywalk, Miami, Florida\\n Buffalo Bayou Park, Houston, Texas\\n Burnham Greenway, Chicago, Illinois\\n Charles River Esplanade, Boston, Massachusetts\\n Chesapeake and Ohio Canal National Historical Park, Washington, D.C., West Virginia, and Maryland \\n Dequindre Cut, Detroit, Michigan\\n East Boston Greenway, Boston,  Massachusetts\\n Eastern Parkway, New York City\\n Elizabeth River Parkway, Union County, New Jersey\\n Embarcadero, San Francisco, California\\n Freeway Park, Seattle, Washington\\n Grand Park, Los Angeles, California\\nGreat Highway, San Francisco, California\\n High Line,  New York, New York\\n Hollywood Central Park, Los Angeles, California\\n Hudson River Park, New York, New York\\n Indianapolis Cultural Trail, Indianapolis, Indiana\\n James River Park System, Richmond, Virginia\\n Little Sugar Creek Greenway, Charlotte, North Carolina\\n Midtown Greenway and trails network of Minneapolis, Minnesota\\n Mosholu Parkway, The Bronx, New York City\\n Ocean Parkway, New York City\\n Passaic River Parkway, Union County, New Jersey\\n Pastor Willie James Ford, Sr. Linear Park, Deerfield Beach, Florida\\n Pelham Parkway, The Bronx, New York City\\n Rahway River Parkway, Union County, New Jersey\\n Rose Kennedy Greenway, Boston, Massachusetts\\n Riverfront Park (Arkansas River Trail), Little Rock, Arkansas\\n Rotary Trail, Birmingham, Alabama\\n Salesforce Park, San Francisco\\n San Antonio River Walk, San Antonio, Texas\\nStowe Recreation Path, Stowe, Vermont\\n The Loop, Tucson, Arizona\\n The Underline, Miami-Dade County, Florida\\n Vanderbilt Motor Parkway, Queens, New York City\\n Walkway over the Hudson State Historic Park, Poughkeepsie and Highland, New York\\n Washington & Old Dominion Railroad Regional Park, Northern Virginia\\n\\nMexico\\n Línea Verde, Aguascalientes\\n\\nAsia\\n\\nHong Kong \\n Avenue of Stars, Hong Kong\\n\\nSingapore \\n Rail Corridor, Singapore\\n\\nIran\\nSeyyed morteza linear park, kashmar\\n\\nIsrael\\n Yarkon Park, Tel Aviv\\n\\nJapan\\n Odori Park, Sapporo\\n\\nPhilippines\\n Plaza Moriones, Manila\\n Camaligan River Park, Camaligan, Camarines Sur\\n\\nTaiwan\\nCalligraphy Greenway, Taichung\\n\\nSouth Korea\\nSeoullo 7017, Seoul\\n\\nUnited Arab Emirates\\nAl zorah linear park, Ajman\\n\\nAustralia\\n Stirling Linear Park, near Adelaide\\n Sturt River Linear Park, near Adelaide\\n The Goods Line, Sydney\\n Torrens Linear Park, Adelaide\\n\\nSee also\\n\\n Boardwalk\\n Footpath\\n Foreshoreway\\n Greenway (landscape)\\n Promenade\\n Trail\\n Urban park\\n Wildlife corridor\\n\\nNotes\\n\\nReferences\\n\\n \\nParks\\nGreenways\\nFootpaths\\nUrban public parks\\nLandscape architecture\\nLand management\\nUrban studies and planning terminology\\nSustainable urban planning\\nTypes of thoroughfares', 'lang': 'en'}\n"
     ]
    }
   ],
   "source": [
    "docid_to_find = 'doc-en-558908'\n",
    "document = read_document_by_docid(docid_to_find)\n",
    "\n",
    "if document:\n",
    "    print(f\"Document with docid {docid_to_find}:\")\n",
    "    print(document)\n",
    "else:\n",
    "    print(f\"No document found with docid {docid_to_find}\")"
   ]
  }
 ],
 "metadata": {
  "kernelspec": {
   "display_name": "pyenv",
   "language": "python",
   "name": "python3"
  },
  "language_info": {
   "codemirror_mode": {
    "name": "ipython",
    "version": 3
   },
   "file_extension": ".py",
   "mimetype": "text/x-python",
   "name": "python",
   "nbconvert_exporter": "python",
   "pygments_lexer": "ipython3",
   "version": "3.12.5"
  }
 },
 "nbformat": 4,
 "nbformat_minor": 2
}
