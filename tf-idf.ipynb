{
 "cells": [
  {
   "cell_type": "markdown",
   "metadata": {},
   "source": [
    "# TF-IDF implementation"
   ]
  },
  {
   "cell_type": "markdown",
   "metadata": {},
   "source": [
    "## Read documents "
   ]
  },
  {
   "cell_type": "code",
   "execution_count": 1,
   "metadata": {},
   "outputs": [],
   "source": [
    "# Auto reload .py imports\n",
    "%load_ext autoreload\n",
    "%autoreload 2"
   ]
  },
  {
   "cell_type": "code",
   "execution_count": 2,
   "metadata": {},
   "outputs": [
    {
     "name": "stderr",
     "output_type": "stream",
     "text": [
      "0it [00:00, ?it/s]"
     ]
    },
    {
     "name": "stdout",
     "output_type": "stream",
     "text": [
      "Loaded 268022 documents.\n"
     ]
    },
    {
     "name": "stderr",
     "output_type": "stream",
     "text": [
      "1it [01:53, 113.98s/it]"
     ]
    },
    {
     "name": "stdout",
     "output_type": "stream",
     "text": [
      "Processed 20000 documents\r"
     ]
    },
    {
     "name": "stderr",
     "output_type": "stream",
     "text": [
      "2it [02:37, 72.58s/it] "
     ]
    },
    {
     "name": "stdout",
     "output_type": "stream",
     "text": [
      "Processed 40000 documents\r"
     ]
    },
    {
     "name": "stderr",
     "output_type": "stream",
     "text": [
      "3it [03:29, 62.97s/it]"
     ]
    },
    {
     "name": "stdout",
     "output_type": "stream",
     "text": [
      "Processed 60000 documents\r"
     ]
    },
    {
     "name": "stderr",
     "output_type": "stream",
     "text": [
      "4it [04:20, 58.51s/it]"
     ]
    },
    {
     "name": "stdout",
     "output_type": "stream",
     "text": [
      "Processed 80000 documents\r"
     ]
    }
   ],
   "source": [
    "import utils\n",
    "from collections import defaultdict\n",
    "from tf_idf_utils import compute_unique_words, compute_tf\n",
    "from concurrent.futures import ProcessPoolExecutor\n",
    "import numpy as np\n",
    "from tqdm import tqdm\n",
    "\n",
    "IDF_SAVE_PATH = './.cache/idf_scores.pkl'\n",
    "TF_IDF_SAVE_PATH = './.cache/tf_idf_docs.pkl'\n",
    "\n",
    "idf  = defaultdict(float)\n",
    "tf_docs = defaultdict(list)\n",
    "total_docs = 0\n",
    "with ProcessPoolExecutor() as executor:\n",
    "    for batch in tqdm(utils.batch_load_documents(executor)):\n",
    "        total_docs += len(batch)\n",
    "        \n",
    "        list_unique_words =  compute_unique_words(batch)\n",
    "\n",
    "        for unique_words in list_unique_words:\n",
    "            for unique_word in unique_words:\n",
    "                idf[unique_word] += 1\n",
    "        \n",
    "        tfs_docs_id = list(executor.map(compute_tf, batch, chunksize=utils.LOAD_BATCH_SIZE // 32))\n",
    "        for doc_id, tf_doc in tfs_docs_id:\n",
    "            for word, tf in tf_doc.items():\n",
    "                if word not in tf_docs:\n",
    "                    tf_docs[word] = [(doc_id, tf)]\n",
    "                else:\n",
    "                    tf_docs[word].append((doc_id, tf))\n",
    "        print(f\"Processed {total_docs} documents\", end='\\r')\n",
    "        \n",
    "\n",
    "idf = {word: np.log(total_docs / (1 + idf[word])) for word in idf}\n",
    "\n",
    "utils.save(IDF_SAVE_PATH, idf)\n",
    "\n",
    "# tf_docs = {doc_id: {word: tf * idf[word] for word, tf in tf_doc.items()} for doc_id, tf_doc in tf_docs.items()}\n",
    "# utils.save(TF_IDF_SAVE_PATH, tf_docs)\n",
    "\n",
    "\n",
    "\n",
    "\n",
    "    "
   ]
  },
  {
   "cell_type": "code",
   "execution_count": 4,
   "metadata": {},
   "outputs": [
    {
     "name": "stdout",
     "output_type": "stream",
     "text": [
      "<class 'list'>\n",
      "<class 'utils.Document'>\n"
     ]
    }
   ],
   "source": [
    "assert all(isinstance(doc, utils.Document) for doc in documents)\n",
    "print(type(documents))\n",
    "print(type(documents[0]))\n",
    "\n"
   ]
  },
  {
   "cell_type": "code",
   "execution_count": 5,
   "metadata": {},
   "outputs": [],
   "source": [
    "for doc in documents:\n",
    "    doc.tokenize()\n",
    "    del doc.content"
   ]
  },
  {
   "cell_type": "code",
   "execution_count": 4,
   "metadata": {},
   "outputs": [],
   "source": [
    "from tf_idf_utils import compute_tfidf\n",
    "\n",
    "tfidf = compute_tfidf(documents)"
   ]
  }
 ],
 "metadata": {
  "kernelspec": {
   "display_name": "DIS-retrieval-text",
   "language": "python",
   "name": "python3"
  },
  "language_info": {
   "codemirror_mode": {
    "name": "ipython",
    "version": 3
   },
   "file_extension": ".py",
   "mimetype": "text/x-python",
   "name": "python",
   "nbconvert_exporter": "python",
   "pygments_lexer": "ipython3",
   "version": "3.11.9"
  }
 },
 "nbformat": 4,
 "nbformat_minor": 2
}
